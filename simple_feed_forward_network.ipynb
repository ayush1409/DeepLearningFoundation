{
 "cells": [
  {
   "cell_type": "code",
   "execution_count": 4,
   "metadata": {},
   "outputs": [
    {
     "name": "stdout",
     "output_type": "stream",
     "text": [
      "[[0 0 1]\n",
      " [0 1 1]\n",
      " [1 0 1]\n",
      " [1 1 1]]\n",
      "[[0]\n",
      " [1]\n",
      " [1]\n",
      " [0]]\n"
     ]
    }
   ],
   "source": [
    "import numpy as np\n",
    "\n",
    "input_data = np.array([[0,0,1],\n",
    "                      [0,1,1],\n",
    "                      [1,0,1],\n",
    "                      [1,1,1]])\n",
    "output_labels = np.array([[0],\n",
    "                         [1],\n",
    "                         [1],\n",
    "                         [0]])\n",
    "\n",
    "print(input_data)\n",
    "print(output_labels)"
   ]
  },
  {
   "cell_type": "code",
   "execution_count": 5,
   "metadata": {},
   "outputs": [],
   "source": [
    "def activate(x,deriv=False):\n",
    "    if deriv==True:\n",
    "        return x*(1-x)\n",
    "    return 1/(1+np.exp(-x))"
   ]
  },
  {
   "cell_type": "code",
   "execution_count": 6,
   "metadata": {},
   "outputs": [
    {
     "name": "stdout",
     "output_type": "stream",
     "text": [
      "[[ 0.68610878  0.93574537  0.46795475  0.6276663 ]\n",
      " [ 0.39341763  0.19693425  0.85935271 -0.36882672]\n",
      " [ 0.77610139 -0.20692954  0.05281964 -0.29818227]]\n",
      "[[-0.59483963]\n",
      " [-0.09184022]\n",
      " [ 0.57502092]\n",
      " [-0.33971514]]\n"
     ]
    }
   ],
   "source": [
    "synaptic_weight_0 = 2*np.random.random((3,4))-1\n",
    "synaptic_weight_1 = 2*np.random.random((4,1))-1\n",
    "\n",
    "print(synaptic_weight_0)\n",
    "print(synaptic_weight_1)\n"
   ]
  },
  {
   "cell_type": "code",
   "execution_count": 26,
   "metadata": {},
   "outputs": [
    {
     "name": "stdout",
     "output_type": "stream",
     "text": [
      "Error:0.0027229389569589234\n",
      "Error:0.002608886595919481\n",
      "Error:0.0025077927309901625\n",
      "Error:0.0024173893366119244\n",
      "Error:0.0023359264105237264\n",
      "Error:0.0022620293737991583\n",
      "Error:0.0021946016435364585\n",
      "Error:0.002132756396740538\n",
      "Error:0.0020757677286588547\n",
      "Error:0.0020230350147841746\n",
      "Error:0.001974056458233334\n",
      "Error:0.0019284091515477894\n",
      "Error:0.0018857338393603144\n",
      "Error:0.0018457231267461666\n",
      "Error:0.0018081122493495405\n",
      "Error:0.0017726717729585882\n",
      "Error:0.0017392017636179086\n",
      "Error:0.0017075270908063266\n",
      "Error:0.0016774936124779095\n",
      "Error:0.0016489650528759491\n",
      "Error:0.0016218204292935939\n",
      "Error:0.0015959519173262137\n",
      "Error:0.0015712630690222548\n",
      "Error:0.0015476673170455916\n",
      "Error:0.0015250867121688885\n",
      "Error:0.0015034508522993233\n",
      "Error:0.0014826959696415609\n",
      "Error:0.0014627641491423262\n",
      "Error:0.0014436026564881121\n",
      "Error:0.001425163357969422\n",
      "Error:0.0014074022177406357\n",
      "Error:0.0013902788605696602\n",
      "Error:0.0013737561902357912\n",
      "Error:0.0013578000553997977\n",
      "Error:0.001342378956127504\n",
      "Error:0.0013274637853502905\n",
      "Error:0.0013130276004551782\n",
      "Error:0.0012990454209449074\n",
      "Error:0.001285494048722588\n",
      "Error:0.0012723519080764575\n",
      "Error:0.0012595989028609087\n",
      "Error:0.0012472162887352206\n",
      "Error:0.0012351865586189912\n",
      "Error:0.0012234933397807604\n",
      "Error:0.001212121301188025\n",
      "Error:0.0012010560699336219\n",
      "Error:0.0011902841557054238\n",
      "Error:0.00117979288240113\n",
      "Error:0.001169570326103996\n",
      "Error:0.001159605258731818\n",
      "Error:0.0011498870967557163\n",
      "Error:0.0011404058544604101\n",
      "Error:0.0011311521012769509\n",
      "Error:0.001122116922775603\n",
      "Error:0.001113291884955085\n",
      "Error:0.0011046690015019483\n",
      "Error:0.0010962407037347346\n",
      "Error:0.0010879998129754585\n",
      "Error:0.001079939515120735\n",
      "Error:0.001072053337208586\n",
      "Error:0.0010643351257987458\n",
      "Error:0.0010567790270023822\n",
      "Error:0.0010493794680154864\n",
      "Error:0.0010421311400236075\n",
      "Error:0.0010350289823587199\n",
      "Error:0.0010280681678028491\n",
      "Error:0.0010212440889397032\n",
      "Error:0.001014552345468967\n",
      "Error:0.0010079887324029337\n",
      "Error:0.0010015492290743743\n",
      "Error:0.0009952299888902922\n",
      "Error:0.0009890273297736198\n",
      "Error:0.000982937725236518\n",
      "Error:0.000976957796039616\n",
      "Error:0.0009710843023901288\n",
      "Error:0.0009653141366387602\n",
      "Error:0.0009596443164389702\n",
      "Error:0.0009540719783328218\n",
      "Error:0.0009485943717341898\n",
      "Error:0.0009432088532791014\n",
      "Error:0.0009379128815176272\n",
      "Error:0.0009327040119237364\n",
      "Error:0.0009275798921994894\n",
      "Error:0.0009225382578548862\n",
      "Error:0.0009175769280429038\n",
      "Error:0.0009126938016340543\n",
      "Error:0.0009078868535129743\n",
      "Error:0.000903154131083435\n",
      "Error:0.0008984937509670767\n",
      "Error:0.0008939038958844317\n",
      "Error:0.0008893828117053734\n",
      "Error:0.0008849288046590214\n",
      "Error:0.0008805402386926176\n",
      "Error:0.0008762155329701463\n",
      "Error:0.0008719531595020728\n",
      "Error:0.0008677516408982365\n",
      "Error:0.0008636095482363567\n",
      "Error:0.0008595254990388386\n",
      "Error:0.000855498155352793\n",
      "Error:0.0008515262219241835\n"
     ]
    }
   ],
   "source": [
    "for j in range(1000000):\n",
    "    \n",
    "    layer_0 = input_data\n",
    "    layer_1 = activate(np.dot(layer_0,synaptic_weight_0))\n",
    "    layer_2 = activate(np.dot(layer_1,synaptic_weight_1))\n",
    "    \n",
    "    l2error = output_labels - layer_2\n",
    "    \n",
    "    if (j% 10000) == 0:\n",
    "        print(\"Error:\" + str(np.mean(np.abs(l2error))))\n",
    "    \n",
    "    layer2_gradient = l2error*activate(layer_2, deriv=True)\n",
    "    \n",
    "    layer1_error = layer2_gradient.dot(synaptic_weight_1.T)\n",
    "    \n",
    "    layer1_gradient = layer1_error*activate(layer_1, deriv=True)\n",
    "    \n",
    "    synaptic_weight_1 += layer_1.T.dot(layer2_gradient)\n",
    "    synaptic_weight_0 += layer_0.T.dot(layer1_gradient)"
   ]
  },
  {
   "cell_type": "code",
   "execution_count": 27,
   "metadata": {},
   "outputs": [
    {
     "name": "stdout",
     "output_type": "stream",
     "text": [
      "[0.62867398 0.12199411 0.97581337 0.19231761]\n"
     ]
    }
   ],
   "source": [
    "print(activate(np.dot(np.array([0, 1, 1]), synaptic_weight_0)))"
   ]
  },
  {
   "cell_type": "code",
   "execution_count": null,
   "metadata": {},
   "outputs": [],
   "source": []
  }
 ],
 "metadata": {
  "kernelspec": {
   "display_name": "Python 3",
   "language": "python",
   "name": "python3"
  },
  "language_info": {
   "codemirror_mode": {
    "name": "ipython",
    "version": 3
   },
   "file_extension": ".py",
   "mimetype": "text/x-python",
   "name": "python",
   "nbconvert_exporter": "python",
   "pygments_lexer": "ipython3",
   "version": "3.5.2"
  }
 },
 "nbformat": 4,
 "nbformat_minor": 2
}
